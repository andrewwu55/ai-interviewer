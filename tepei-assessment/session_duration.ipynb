{
 "cells": [
  {
   "cell_type": "code",
   "execution_count": 1,
   "metadata": {},
   "outputs": [],
   "source": [
    "import pandas as pd "
   ]
  },
  {
   "cell_type": "code",
   "execution_count": 7,
   "metadata": {},
   "outputs": [],
   "source": [
    "roster_df = pd.read_csv('./data/roster.csv')\n",
    "username_name_map = roster_df.set_index('username')['name'].to_dict() "
   ]
  },
  {
   "cell_type": "code",
   "execution_count": null,
   "metadata": {},
   "outputs": [],
   "source": [
    "dropbox_path = ''\n",
    "student_transcripts = []"
   ]
  },
  {
   "cell_type": "code",
   "execution_count": 25,
   "metadata": {},
   "outputs": [],
   "source": [
    "time_data = [] \n",
    "for path in student_transcripts: \n",
    "    df = pd.read_csv(dropbox_path + path, parse_dates=['time'])\n",
    "    username = df.iloc[0]['user']\n",
    "    time_spent = (df.iloc[-1]['time'] - df.iloc[0]['time']).total_seconds() / 60 \n",
    "    time_data.append({\n",
    "        'Student': username_name_map[username], \n",
    "        'Minutes Spent with Interviewer': time_spent\n",
    "    })"
   ]
  }
 ],
 "metadata": {
  "kernelspec": {
   "display_name": "ai-interviewer-4bNf2K9S",
   "language": "python",
   "name": "python3"
  },
  "language_info": {
   "codemirror_mode": {
    "name": "ipython",
    "version": 3
   },
   "file_extension": ".py",
   "mimetype": "text/x-python",
   "name": "python",
   "nbconvert_exporter": "python",
   "pygments_lexer": "ipython3",
   "version": "3.10.12"
  }
 },
 "nbformat": 4,
 "nbformat_minor": 2
}
