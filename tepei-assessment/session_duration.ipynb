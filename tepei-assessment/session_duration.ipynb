{
 "cells": [
  {
   "cell_type": "code",
   "execution_count": 1,
   "metadata": {},
   "outputs": [],
   "source": [
    "import pandas as pd "
   ]
  },
  {
   "cell_type": "code",
   "execution_count": 7,
   "metadata": {},
   "outputs": [],
   "source": [
    "roster_df = pd.read_csv('./data/roster.csv')\n",
    "username_name_map = roster_df.set_index('username')['name'].to_dict() "
   ]
  },
  {
   "cell_type": "code",
   "execution_count": 8,
   "metadata": {},
   "outputs": [],
   "source": [
    "dropbox_path = '/Users/anwu/Dropbox (Harvard University)/'\n",
    "student_transcripts = [\n",
    "    \"AI interviewer/Referee Report Guide/interviews-main-referee/data/aesenther/transcript+aesenther+486ffe6b4a9915de556dfa3412478c166ec68994111e9d3094f35a242df98b45.csv\", \n",
    "    'AI interviewer/Referee Report Guide/interviews-main-referee/data/ashah/transcript+ashah+d03ff44d6e89397008237aa13173aea131b3fa11995f16e2d3654e3f45a73906.csv', \n",
    "    'AI interviewer/Referee Report Guide/interviews-main-referee/data/awotovich/transcript+awotovich+feddef3559ade80f450510216c1b2f86afd71e2d35c276a4a70f4057ea10a80b.csv', \n",
    "    'AI interviewer/Referee Report Guide/interviews-main-referee/data/bcao/transcript+bcao+856753bba09390d104390aa1f0fb03c3a381b6698d0d3edf3afea9c39bdd608b.csv', \n",
    "    'AI interviewer/Referee Report Guide/interviews-main-referee/data/cbartunek/transcript+cbartunek+fd00428bb1c619f4cf5970fcfe5bb71a877dd71a73600f8d4f57c4cedcaa9754.csv', \n",
    "    'AI interviewer/Referee Report Guide/interviews-main-referee/data/cchen/transcript+cchen+da4d153019ed6fa1bc470ec6dc9c564658703078c354f901f1e6b7bac1414816.csv', \n",
    "    'AI interviewer/Referee Report Guide/interviews-main-referee/data/cwu/transcript+cwu+ce45b7966909fc46ef0fda75625ecf29f65076ace7ceb1852b5888c26b4b941e.csv', \n",
    "    'AI interviewer/Referee Report Guide/interviews-main-referee/data/eyuan/transcript+eyuan+2e50ad9e2b1276f76dc3ccec61a026830f3e50019c1c0f39cc1b143b747fff40.csv', \n",
    "    'AI interviewer/Referee Report Guide/interviews-main-referee/data/hbarnhard/transcript+hbarnhard+f2c902c6adb719f2875e279e4857c49be22b9117aad953f221c4be7732bfb85b.csv', \n",
    "    'AI interviewer/Referee Report Guide/interviews-main-referee/data/hpark/transcript+hpark+e2097eedaef460ec6184930730a550e22f997c8e88a16c4cca4cf5bef3e7a77e.csv', \n",
    "    'AI interviewer/Referee Report Guide/interviews-main-referee/data/jdiao/transcript+jdiao+a2795d07c6c20395093814e921333bf4a9f0949b0cff7a50ea8a9bcfc4f1b68a.csv', \n",
    "    'AI interviewer/Referee Report Guide/interviews-main-referee/data/jryu/transcript+jryu+ea0443d06399ead094bf71b5525c0f88aff12f71ddb7f3155f857fce8fb4e9b4.csv', \n",
    "    'AI interviewer/Referee Report Guide/interviews-main-referee/data/kchandra/transcript+kchandra+4cc4c9b848e9754e9d97ad3cf5bc2cb342b7eb4880ecd56531a37e6d973957bf.csv', \n",
    "    'AI interviewer/Referee Report Guide/interviews-main-referee/data/ksehgal/transcript+ksehgal+cf013788e65ce0802ee3fbbcf048fae1f97fbeb065cfca2caca2cf1981ba16d8.csv', \n",
    "    'AI interviewer/Referee Report Guide/interviews-main-referee/data/kwang/transcript+kwang+fe27dd7fbd6ea927918161755c337acbc65a572a97b6014a0b9ce9bfb582bac5.csv', \n",
    "    'AI interviewer/Referee Report Guide/interviews-main-referee/data/lwu/transcript+lwu+cbb7bb6602c37c934c6e63ee65f616c0df45f4c2010ef8376d9d0de5e37088ed.csv', \n",
    "    'AI interviewer/Referee Report Guide/interviews-main-referee/data/mgarg/transcript+mgarg+678d809448d660bab69f41a12ed502790e4efb5a31f5a9bdbaefae8caecb48ff.csv', \n",
    "    'AI interviewer/Referee Report Guide/interviews-main-referee/data/myamoah/transcript+myamoah+ddd71505bce01972fb76efeca790c7f4f1bdfccf5f21995cc827c7e1853a6882.csv', \n",
    "    'AI interviewer/Referee Report Guide/interviews-main-referee/data/rcheng/transcript+rcheng+9e5a4c6f96ec7eb8e2db3378819f064e7acccd45e66d9afca8c74e22460bec07.csv', \n",
    "    'AI interviewer/Referee Report Guide/interviews-main-referee/data/rli/transcript+rli+78177b5835d64ab1526a7c9dc09d09a5daa92c57d9840f370b57c9983cf968ee.csv', \n",
    "    'AI interviewer/Referee Report Guide/interviews-main-referee/data/rzitomer/transcript+rzitomer+f26806a733f9d698fa0ed77f695b1af61c4d32fa31fa3148b8e1726d889a38dc.csv', \n",
    "    'AI interviewer/Referee Report Guide/interviews-main-referee/data/sgupta/transcript+sgupta+727af5666c3da8dd5591e9663d9ab1a77b1f065410c0050ba70f5be017ff7bc4.csv', \n",
    "    'AI interviewer/Referee Report Guide/interviews-main-referee/data/tarroyo/transcript+tarroyo+6a5c4368a148f33c102422c76d57a457341fd18188720c0f69355515beae55d0.csv'\n",
    "]"
   ]
  },
  {
   "cell_type": "code",
   "execution_count": 25,
   "metadata": {},
   "outputs": [],
   "source": [
    "time_data = [] \n",
    "for path in student_transcripts: \n",
    "    df = pd.read_csv(dropbox_path + path, parse_dates=['time'])\n",
    "    username = df.iloc[0]['user']\n",
    "    time_spent = (df.iloc[-1]['time'] - df.iloc[0]['time']).total_seconds() / 60 \n",
    "    time_data.append({\n",
    "        'Student': username_name_map[username], \n",
    "        'Minutes Spent with Interviewer': time_spent\n",
    "    })"
   ]
  }
 ],
 "metadata": {
  "kernelspec": {
   "display_name": "ai-interviewer-4bNf2K9S",
   "language": "python",
   "name": "python3"
  },
  "language_info": {
   "codemirror_mode": {
    "name": "ipython",
    "version": 3
   },
   "file_extension": ".py",
   "mimetype": "text/x-python",
   "name": "python",
   "nbconvert_exporter": "python",
   "pygments_lexer": "ipython3",
   "version": "3.10.12"
  }
 },
 "nbformat": 4,
 "nbformat_minor": 2
}
