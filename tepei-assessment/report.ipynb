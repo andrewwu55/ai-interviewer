{
 "cells": [
  {
   "cell_type": "markdown",
   "metadata": {},
   "source": [
    "# TEPEI R1, R2, and R3 Individualized Report "
   ]
  },
  {
   "cell_type": "code",
   "execution_count": 1,
   "metadata": {},
   "outputs": [],
   "source": [
    "import pandas as pd \n",
    "import matplotlib.pyplot as plt \n",
    "import matplotlib.patches as mpatches\n",
    "import textwrap \n",
    "from pathlib import Path \n",
    "import os \n",
    "import subprocess \n",
    "\n",
    "from utils import get_latex_code "
   ]
  },
  {
   "cell_type": "code",
   "execution_count": 2,
   "metadata": {},
   "outputs": [],
   "source": [
    "# read in the necessary data \n",
    "username_name_map = pd.read_csv('./data/roster.csv').set_index('username')['name'].to_dict() \n",
    "r1_df = pd.read_parquet('./data/r1_dataset.parquet').sort_values('concept_name')\n",
    "r2_df = pd.read_parquet('./data/r2_dataset.parquet').sort_values('concept_name')\n",
    "r3_df = pd.read_parquet('./data/r3_dataset.parquet').sort_values('concept_name')\n",
    "all_df = pd.read_parquet('./data/all_dataset.parquet').sort_values('concept_name')\n",
    "nlp_df = pd.read_parquet('./data/nlp_scores.parquet')\n",
    "\n",
    "# get the list of students who have completed at least one report \n",
    "student_universe = set(all_df['doc_id'].str[:-3].unique())"
   ]
  },
  {
   "cell_type": "markdown",
   "metadata": {},
   "source": [
    "## Calculate the coverage per topic and the class avg coverage"
   ]
  },
  {
   "cell_type": "code",
   "execution_count": 3,
   "metadata": {},
   "outputs": [],
   "source": [
    "r1_df = r1_df.merge(\n",
    "    r1_df.groupby('doc_id')['score'].sum().rename('doc_sum').reset_index(), \n",
    "    on='doc_id', \n",
    "    how='left'\n",
    ")\n",
    "r1_df['coverage'] = r1_df['score'] / r1_df['doc_sum']\n",
    "r1_class_distribution = r1_df.groupby('concept_name')['coverage'].mean()"
   ]
  },
  {
   "cell_type": "code",
   "execution_count": 4,
   "metadata": {},
   "outputs": [],
   "source": [
    "r2_df = r2_df.merge(\n",
    "    r2_df.groupby('doc_id')['score'].sum().rename('doc_sum').reset_index(), \n",
    "    on='doc_id', \n",
    "    how='left'\n",
    ")\n",
    "r2_df['coverage'] = r2_df['score'] / r2_df['doc_sum']\n",
    "r2_class_distribution = r2_df.groupby('concept_name')['coverage'].mean()"
   ]
  },
  {
   "cell_type": "code",
   "execution_count": 5,
   "metadata": {},
   "outputs": [],
   "source": [
    "r3_df = r3_df.merge(\n",
    "    r3_df.groupby('doc_id')['score'].sum().rename('doc_sum').reset_index(), \n",
    "    on='doc_id', \n",
    "    how='left'\n",
    ")\n",
    "r3_df['coverage'] = r3_df['score'] / r3_df['doc_sum']\n",
    "r3_class_distribution = r3_df.groupby('concept_name')['coverage'].mean()"
   ]
  },
  {
   "cell_type": "code",
   "execution_count": 6,
   "metadata": {},
   "outputs": [],
   "source": [
    "all_df['username'] = all_df['doc_id'].str[:-3]\n",
    "all_df = all_df.merge(\n",
    "    all_df.groupby(['doc_id'])['score'].sum().rename('doc_sum').reset_index(), \n",
    "    on='doc_id', \n",
    "    how='left'\n",
    ")\n",
    "all_df['coverage'] = all_df['score'] / all_df['doc_sum']\n",
    "all_class_distribution = all_df.groupby(['username', 'concept_name'])['coverage'].mean().reset_index().groupby('concept_name')['coverage'].mean()"
   ]
  },
  {
   "cell_type": "markdown",
   "metadata": {},
   "source": [
    "## Prepare the latex itemize for the topic explanations"
   ]
  },
  {
   "cell_type": "code",
   "execution_count": 7,
   "metadata": {},
   "outputs": [],
   "source": [
    "r1_topics = \"\\\\begin{itemize}\" \n",
    "for row in r1_df[['concept_name', 'concept_prompt']].drop_duplicates().to_dict('records'): \n",
    "    r1_topics += f\"\\n    \\\\item \\\\textbf{{{row['concept_name']}:}} {row['concept_prompt']}\"\n",
    "r1_topics += \"\\n\\\\end{itemize}\"\n",
    "\n",
    "r2_topics = \"\\\\begin{itemize}\" \n",
    "for row in r2_df[['concept_name', 'concept_prompt']].drop_duplicates().to_dict('records'): \n",
    "    r2_topics += f\"\\n    \\\\item \\\\textbf{{{row['concept_name']}:}} {row['concept_prompt']}\"\n",
    "r2_topics += \"\\n\\\\end{itemize}\"\n",
    "\n",
    "r3_topics = \"\\\\begin{itemize}\" \n",
    "for row in r3_df[['concept_name', 'concept_prompt']].drop_duplicates().to_dict('records'): \n",
    "    r3_topics += f\"\\n    \\\\item \\\\textbf{{{row['concept_name']}:}} {row['concept_prompt']}\"\n",
    "r3_topics += \"\\n\\\\end{itemize}\"\n",
    "\n",
    "all_topics = \"\\\\begin{itemize}\" \n",
    "for row in all_df[['concept_name', 'concept_prompt']].drop_duplicates().to_dict('records'): \n",
    "    all_topics += f\"\\n    \\\\item \\\\textbf{{{row['concept_name']}:}} {row['concept_prompt']}\"\n",
    "all_topics += \"\\n\\\\end{itemize}\""
   ]
  },
  {
   "cell_type": "markdown",
   "metadata": {},
   "source": [
    "## Generate the individual reports "
   ]
  },
  {
   "cell_type": "code",
   "execution_count": 8,
   "metadata": {},
   "outputs": [],
   "source": [
    "for username, name in username_name_map.items(): \n",
    "    # iterate through each student\n",
    "    if username in student_universe: \n",
    "        # only create a report for a student who has completed at least one assignment \n",
    "\n",
    "        # r1 student vs class plot \n",
    "        tmp = pd.DataFrame({\n",
    "            'Class Average': r1_class_distribution, \n",
    "            'Student': r1_df.loc[r1_df['doc_id'] == f'{username}_R1'].set_index('concept_name')['coverage']\n",
    "        })\n",
    "        tmp.index = [textwrap.fill(item.strip(), width=40) for item in tmp.index]\n",
    "        fig, ax = plt.subplots(figsize=(10, 8), facecolor='w')\n",
    "        tmp[::-1].plot.barh(ax=ax)\n",
    "        ax.set_xlabel('Topic Coverage (%)')\n",
    "        ax.set_ylabel('Topic')\n",
    "        ax.xaxis.set_major_formatter('{x:,.0%}')\n",
    "        class_avg = mpatches.Patch(color='C0', label='Class Average')\n",
    "        student = mpatches.Patch(color='C1', label='Student')\n",
    "        fig.legend(handles=[student, class_avg], ncol=2, loc='lower center')\n",
    "        ax.legend().remove()\n",
    "        fig.savefig('./r1.png', bbox_inches='tight')\n",
    "        plt.close() \n",
    "\n",
    "        # r2 student vs class plot \n",
    "        tmp = pd.DataFrame({\n",
    "            'Class Average': r2_class_distribution, \n",
    "            'Student': r2_df.loc[r2_df['doc_id'] == f'{username}_R2'].set_index('concept_name')['coverage']\n",
    "        })\n",
    "        tmp.index = [textwrap.fill(item.strip(), width=40) for item in tmp.index]\n",
    "        fig, ax = plt.subplots(figsize=(10, 8), facecolor='w')\n",
    "        tmp[::-1].plot.barh(ax=ax)\n",
    "        ax.set_xlabel('Topic Coverage (%)')\n",
    "        ax.set_ylabel('Topic')\n",
    "        ax.xaxis.set_major_formatter('{x:,.0%}')\n",
    "        class_avg = mpatches.Patch(color='C0', label='Class Average')\n",
    "        student = mpatches.Patch(color='C1', label='Student')\n",
    "        fig.legend(handles=[student, class_avg], ncol=2, loc='lower center')\n",
    "        ax.legend().remove()\n",
    "        fig.savefig('./r2.png', bbox_inches='tight')\n",
    "        plt.close() \n",
    "\n",
    "        # r3 student vs class plot \n",
    "        tmp = pd.DataFrame({\n",
    "            'Class Average': r3_class_distribution, \n",
    "            'Student': r3_df.loc[r3_df['doc_id'] == f'{username}_R3'].set_index('concept_name')['coverage']\n",
    "        })\n",
    "        tmp.index = [textwrap.fill(item.strip(), width=40) for item in tmp.index]\n",
    "        fig, ax = plt.subplots(figsize=(10, 8), facecolor='w')\n",
    "        tmp[::-1].plot.barh(ax=ax)\n",
    "        ax.set_xlabel('Topic Coverage (%)')\n",
    "        ax.set_ylabel('Topic')\n",
    "        ax.xaxis.set_major_formatter('{x:,.0%}')\n",
    "        class_avg = mpatches.Patch(color='C0', label='Class Average')\n",
    "        student = mpatches.Patch(color='C1', label='Student')\n",
    "        fig.legend(handles=[student, class_avg], ncol=2, loc='lower center')\n",
    "        ax.legend().remove()\n",
    "        fig.savefig('./r3.png', bbox_inches='tight')\n",
    "        plt.close() \n",
    "\n",
    "        # r1, r2, and r3 over time plot \n",
    "        tmp = pd.DataFrame({\n",
    "            'R3': all_df.loc[all_df['doc_id'] == f'{username}_R3'].set_index('concept_name')['coverage'], \n",
    "            'R2': all_df.loc[all_df['doc_id'] == f'{username}_R2'].set_index('concept_name')['coverage'], \n",
    "            'R1': all_df.loc[all_df['doc_id'] == f'{username}_R1'].set_index('concept_name')['coverage'], \n",
    "        })\n",
    "        tmp.index = [textwrap.fill(item.strip(), width=40) for item in tmp.index]\n",
    "        fig, ax = plt.subplots(figsize=(10, 8), facecolor='w')\n",
    "        tmp[::-1].plot.barh(ax=ax, color=['C0', 'C1', 'C2'])\n",
    "        ax.set_xlabel('Topic Coverage (%)')\n",
    "        ax.set_ylabel('Topic')\n",
    "        ax.xaxis.set_major_formatter('{x:,.0%}')\n",
    "        r3 = mpatches.Patch(color='C0', label='R3')\n",
    "        r2 = mpatches.Patch(color='C1', label='R2')\n",
    "        r1 = mpatches.Patch(color='C2', label='R1')\n",
    "        fig.legend(handles=[r1, r2, r3], ncol=3, loc='lower center')\n",
    "        ax.legend().remove()\n",
    "        fig.savefig('./over_time.png', bbox_inches='tight')\n",
    "        plt.close() \n",
    "\n",
    "        # NLP scores plot \n",
    "        for nlp_score in ['concreteness', 'subjectiveness', 'specificity']: \n",
    "            fig, ax = plt.subplots(figsize=(4, 6))\n",
    "            for tmp_username in username_name_map: \n",
    "                if username == tmp_username: \n",
    "                    nlp_df.loc[nlp_df['doc_id'].str.contains(f\"{tmp_username}_\")].set_index('round')[nlp_score].plot.line(ax=ax, alpha=1, color='C0', linewidth=2, marker='o') \n",
    "                else: \n",
    "                    nlp_df.loc[nlp_df['doc_id'].str.contains(f\"{tmp_username}_\")].set_index('round')[nlp_score].plot.line(ax=ax, alpha=0.5, color='gray', linewidth=1) \n",
    "            ax.set_xticks([1, 2, 3], labels=['R1', 'R2', 'R3'])\n",
    "            ax.set_xlim(0.9, 3.1)\n",
    "            ax.set_xlabel('Referee Report')\n",
    "            ax.set_ylabel(f\"{nlp_score.capitalize()} Score\")\n",
    "            fig.savefig(f\"{nlp_score}.png\", bbox_inches='tight')\n",
    "            plt.close()\n",
    "\n",
    "        # get latex code for the document\n",
    "        latex_content = get_latex_code(name, r1_topics, r2_topics, r3_topics, all_topics, 'r1.png', 'r2.png', 'r3.png', 'over_time.png', 'concreteness.png', 'subjectiveness.png', 'specificity.png')\n",
    "\n",
    "        # Write to a temporary file \n",
    "        with open('./tmp.tex', 'w') as f:\n",
    "            f.write(latex_content)\n",
    "\n",
    "        # convert to PDF \n",
    "        subprocess.run(['/Library/TeX/texbin/pdflatex', 'tmp.tex'], stdout=subprocess.DEVNULL)\n",
    "\n",
    "        # delete intermediate files\n",
    "        for fpath in Path('.').glob('tmp.*'): \n",
    "            if not str(fpath).endswith('pdf'): \n",
    "                os.remove(fpath)\n",
    "        os.remove('r1.png')\n",
    "        os.remove('r2.png')\n",
    "        os.remove('r3.png')\n",
    "        os.remove('over_time.png')\n",
    "        os.remove('concreteness.png')\n",
    "        os.remove('subjectiveness.png')\n",
    "        os.remove('specificity.png')\n",
    "\n",
    "        # rename file to student name and move to output folder \n",
    "        Path('./tmp.pdf').rename(f'./output/{name}.pdf')"
   ]
  }
 ],
 "metadata": {
  "kernelspec": {
   "display_name": "ai-interviewer-4bNf2K9S",
   "language": "python",
   "name": "python3"
  },
  "language_info": {
   "codemirror_mode": {
    "name": "ipython",
    "version": 3
   },
   "file_extension": ".py",
   "mimetype": "text/x-python",
   "name": "python",
   "nbconvert_exporter": "python",
   "pygments_lexer": "ipython3",
   "version": "3.10.12"
  }
 },
 "nbformat": 4,
 "nbformat_minor": 2
}
